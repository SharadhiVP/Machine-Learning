{
 "cells": [
  {
   "cell_type": "code",
   "execution_count": 16,
   "id": "3e770532",
   "metadata": {},
   "outputs": [
    {
     "name": "stdout",
     "output_type": "stream",
     "text": [
      "Sample Dataset Preview:\n",
      "                                           Review  Sentiment\n",
      "0             I love this product! It works great          1\n",
      "1    Worst experience ever. Totally disappointed.          0\n",
      "2           Absolutely fantastic! Will buy again.          1\n",
      "3  Not good. Poor quality and broke after a week.          0\n",
      "4      Excellent service and amazing performance!          1\n",
      "\n",
      " Accuracy Score: 0.3333333333333333\n",
      "\n",
      " Classification Report:\n",
      "               precision    recall  f1-score   support\n",
      "\n",
      "           0       0.00      0.00      0.00         2\n",
      "           1       0.33      1.00      0.50         1\n",
      "\n",
      "    accuracy                           0.33         3\n",
      "   macro avg       0.17      0.50      0.25         3\n",
      "weighted avg       0.11      0.33      0.17         3\n",
      "\n",
      "\n",
      " Confusion Matrix:\n",
      " [[0 2]\n",
      " [0 1]]\n"
     ]
    },
    {
     "name": "stderr",
     "output_type": "stream",
     "text": [
      "[nltk_data] Downloading package stopwords to C:\\Users\\Sahana S\n",
      "[nltk_data]     Kumbar\\AppData\\Roaming\\nltk_data...\n",
      "[nltk_data]   Package stopwords is already up-to-date!\n"
     ]
    },
    {
     "data": {
      "image/png": "[encoded data removed]",
      "text/plain": [
       "<Figure size 500x400 with 2 Axes>"
      ]
     },
     "metadata": {},
     "output_type": "display_data"
    }
   ],
   "source": [
    "# Sentiment Analysis using TF-IDF and Logistic Regression\n",
    "# Task: ML Internship - NLP Sentiment Classification\n",
    "\n",
    "#Import required libraries\n",
    "import pandas as pd\n",
    "import numpy as np\n",
    "import matplotlib.pyplot as plt\n",
    "import seaborn as sns\n",
    "\n",
    "from sklearn.model_selection import train_test_split\n",
    "from sklearn.feature_extraction.text import TfidfVectorizer\n",
    "from sklearn.linear_model import LogisticRegression\n",
    "from sklearn.metrics import classification_report, accuracy_score, confusion_matrix\n",
    "import warnings\n",
    "warnings.filterwarnings('ignore')\n",
    "\n",
    "import re\n",
    "import string\n",
    "import nltk\n",
    "nltk.download('stopwords')\n",
    "from nltk.corpus import stopwords\n",
    "stop_words = set(stopwords.words('english'))\n",
    "\n",
    "#Create sample dataset (we can use the csv file also)\n",
    "data = {\n",
    "    \"Review\": [\n",
    "        \"I love this product! It works great\",\n",
    "        \"Worst experience ever. Totally disappointed.\",\n",
    "        \"Absolutely fantastic! Will buy again.\",\n",
    "        \"Not good. Poor quality and broke after a week.\",\n",
    "        \"Excellent service and amazing performance!\",\n",
    "        \"Terrible. I want a refund!\",\n",
    "        \"Very satisfied with the purchase.\",\n",
    "        \"Bad quality, waste of money.\",\n",
    "        \"Perfect for my needs. Highly recommend!\",\n",
    "        \"Awful product. Do not buy!\"\n",
    "    ],\n",
    "    \"Sentiment\": [1, 0, 1, 0, 1, 0, 1, 0, 1, 0]  # 1 = positive, 0 = negative\n",
    "}\n",
    "df = pd.DataFrame(data)\n",
    "print(\"Sample Dataset Preview:\")\n",
    "print(df.head())\n",
    "\n",
    "#Text Preprocessing Function\n",
    "def clean_text(text):\n",
    "    text = text.lower()  # lowercase\n",
    "    text = re.sub(r'<.*?>', '', text)  # remove HTML\n",
    "    text = re.sub(r'http\\S+|www.\\S+', '', text)  # remove URLs\n",
    "    text = re.sub(r'[^a-z\\s]', '', text)  # remove punctuation/numbers\n",
    "    text = ' '.join(word for word in text.split() if word not in stop_words)  # remove stopwords\n",
    "    return text\n",
    "\n",
    "#Apply cleaning\n",
    "df['clean_review'] = df['Review'].apply(clean_text)\n",
    "\n",
    "#Split data into train and test sets\n",
    "X = df['clean_review']\n",
    "y = df['Sentiment']\n",
    "X_train, X_test, y_train, y_test = train_test_split(X, y, test_size=0.3, random_state=42)\n",
    "\n",
    "#TF-IDF Vectorization\n",
    "vectorizer = TfidfVectorizer()\n",
    "X_train_tfidf = vectorizer.fit_transform(X_train)\n",
    "X_test_tfidf = vectorizer.transform(X_test)\n",
    "\n",
    "#Build and Train the Logistic Regression model\n",
    "model = LogisticRegression()\n",
    "model.fit(X_train_tfidf, y_train)\n",
    "\n",
    "#Make Predictions\n",
    "y_pred = model.predict(X_test_tfidf)\n",
    "\n",
    "#Evaluate the Model\n",
    "print(\"\\n Accuracy Score:\", accuracy_score(y_test, y_pred))\n",
    "print(\"\\n Classification Report:\\n\", classification_report(y_test, y_pred))\n",
    "print(\"\\n Confusion Matrix:\\n\", confusion_matrix(y_test, y_pred))\n",
    "\n",
    "#Visualize Confusion Matrix\n",
    "plt.figure(figsize=(5,4))\n",
    "sns.heatmap(confusion_matrix(y_test, y_pred), annot=True, fmt='d', cmap='Blues')\n",
    "plt.xlabel('Predicted')\n",
    "plt.ylabel('Actual')\n",
    "plt.title('Confusion Matrix - Sentiment Analysis')\n",
    "plt.show()"
   ]
  },
  {
   "cell_type": "code",
   "execution_count": null,
   "id": "50040d82",
   "metadata": {},
   "outputs": [],
   "source": []
  }
 ],
 "metadata": {
  "kernelspec": {
   "display_name": "Python 3 (ipykernel)",
   "language": "python",
   "name": "python3"
  },
  "language_info": {
   "codemirror_mode": {
    "name": "ipython",
    "version": 3
   },
   "file_extension": ".py",
   "mimetype": "text/x-python",
   "name": "python",
   "nbconvert_exporter": "python",
   "pygments_lexer": "ipython3",
   "version": "3.9.13"
  }
 },
 "nbformat": 4,
 "nbformat_minor": 5
}
